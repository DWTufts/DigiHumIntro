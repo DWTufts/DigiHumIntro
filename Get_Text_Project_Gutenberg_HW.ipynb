{
 "cells": [
  {
   "cell_type": "markdown",
   "metadata": {},
   "source": [
    "## Set up"
   ]
  },
  {
   "cell_type": "code",
   "execution_count": 1,
   "metadata": {},
   "outputs": [],
   "source": [
    "# imports\n",
    "import requests\n",
    "import pandas as pd\n",
    "import spacy"
   ]
  },
  {
   "cell_type": "code",
   "execution_count": 2,
   "metadata": {},
   "outputs": [
    {
     "data": {
      "text/plain": [
       "['ner', 'parser']"
      ]
     },
     "execution_count": 2,
     "metadata": {},
     "output_type": "execute_result"
    }
   ],
   "source": [
    "# set up nlp pipline\n",
    "nlp = spacy.load(\"en_core_web_sm\")\n",
    "nlp.disable_pipes('ner', 'parser')"
   ]
  },
  {
   "cell_type": "markdown",
   "metadata": {},
   "source": [
    "###Andersen's Fairy Tales"
   ]
  },
  {
   "cell_type": "code",
   "execution_count": 54,
   "metadata": {},
   "outputs": [],
   "source": [
    "# use requests library to load text\n",
    "response = requests.get('https://www.gutenberg.org/cache/epub/1597/pg1597.txt')\n",
    "text = response.text"
   ]
  },
  {
   "cell_type": "code",
   "execution_count": 55,
   "metadata": {
    "scrolled": true
   },
   "outputs": [
    {
     "data": {
      "text/plain": [
       "\"\\ufeffThe Project Gutenberg eBook of Andersen's Fairy Tales\\r\\n    \\r\\nThis ebook is for the use of anyone anywhere in the United States and\\r\\nmost other parts of the world at no cost and with almost no restrictions\\r\\nwhatsoever. You may copy it, give it away o\""
      ]
     },
     "execution_count": 55,
     "metadata": {},
     "output_type": "execute_result"
    }
   ],
   "source": [
    "text[:250]"
   ]
  },
  {
   "cell_type": "code",
   "execution_count": 56,
   "metadata": {},
   "outputs": [],
   "source": [
    "# find start index\n",
    "start = text.find('Many years ago, there was an Emperor')"
   ]
  },
  {
   "cell_type": "code",
   "execution_count": 57,
   "metadata": {},
   "outputs": [],
   "source": [
    "# find end index\n",
    "end = text.find('*** END OF THE PROJECT')"
   ]
  },
  {
   "cell_type": "code",
   "execution_count": 58,
   "metadata": {},
   "outputs": [],
   "source": [
    "# trim text\n",
    "aft = text[start:end]"
   ]
  },
  {
   "cell_type": "code",
   "execution_count": 59,
   "metadata": {},
   "outputs": [],
   "source": [
    "# split into paragraphs\n",
    "aft_paras = aft.split('\\r\\n\\r\\n')"
   ]
  },
  {
   "cell_type": "code",
   "execution_count": 60,
   "metadata": {
    "scrolled": true
   },
   "outputs": [
    {
     "data": {
      "text/plain": [
       "list"
      ]
     },
     "execution_count": 60,
     "metadata": {},
     "output_type": "execute_result"
    }
   ],
   "source": [
    "type(aft_paras)"
   ]
  },
  {
   "cell_type": "code",
   "execution_count": 61,
   "metadata": {},
   "outputs": [],
   "source": [
    "# creating empty lists for author and title will be handy for building our dataframe\n",
    "author = []\n",
    "title = []"
   ]
  },
  {
   "cell_type": "code",
   "execution_count": 62,
   "metadata": {},
   "outputs": [],
   "source": [
    "# this little for-loop will poplate the lists we just created\n",
    "for para in aft_paras:\n",
    "    author.append('Andersen')\n",
    "    title.append('Andersen Fairy Tales')"
   ]
  },
  {
   "cell_type": "code",
   "execution_count": 63,
   "metadata": {},
   "outputs": [
    {
     "data": {
      "text/plain": [
       "True"
      ]
     },
     "execution_count": 63,
     "metadata": {},
     "output_type": "execute_result"
    }
   ],
   "source": [
    "len(author) == len(title)"
   ]
  },
  {
   "cell_type": "code",
   "execution_count": 64,
   "metadata": {},
   "outputs": [],
   "source": [
    "aft_df = pd.DataFrame(list(zip(author, title, aft_paras)), columns=['author', 'title', 'text'])"
   ]
  },
  {
   "cell_type": "code",
   "execution_count": 65,
   "metadata": {
    "scrolled": true
   },
   "outputs": [
    {
     "data": {
      "text/html": [
       "<div>\n",
       "<style scoped>\n",
       "    .dataframe tbody tr th:only-of-type {\n",
       "        vertical-align: middle;\n",
       "    }\n",
       "\n",
       "    .dataframe tbody tr th {\n",
       "        vertical-align: top;\n",
       "    }\n",
       "\n",
       "    .dataframe thead th {\n",
       "        text-align: right;\n",
       "    }\n",
       "</style>\n",
       "<table border=\"1\" class=\"dataframe\">\n",
       "  <thead>\n",
       "    <tr style=\"text-align: right;\">\n",
       "      <th></th>\n",
       "      <th>author</th>\n",
       "      <th>title</th>\n",
       "      <th>text</th>\n",
       "    </tr>\n",
       "  </thead>\n",
       "  <tbody>\n",
       "    <tr>\n",
       "      <th>0</th>\n",
       "      <td>Andersen</td>\n",
       "      <td>Andersen Fairy Tales</td>\n",
       "      <td>Many years ago, there was an Emperor, who was ...</td>\n",
       "    </tr>\n",
       "    <tr>\n",
       "      <th>1</th>\n",
       "      <td>Andersen</td>\n",
       "      <td>Andersen Fairy Tales</td>\n",
       "      <td>Time passed merrily in the large town which wa...</td>\n",
       "    </tr>\n",
       "    <tr>\n",
       "      <th>2</th>\n",
       "      <td>Andersen</td>\n",
       "      <td>Andersen Fairy Tales</td>\n",
       "      <td>“These must, indeed, be splendid clothes!” tho...</td>\n",
       "    </tr>\n",
       "    <tr>\n",
       "      <th>3</th>\n",
       "      <td>Andersen</td>\n",
       "      <td>Andersen Fairy Tales</td>\n",
       "      <td>So the two pretended weavers set up two looms,...</td>\n",
       "    </tr>\n",
       "    <tr>\n",
       "      <th>4</th>\n",
       "      <td>Andersen</td>\n",
       "      <td>Andersen Fairy Tales</td>\n",
       "      <td>“I should like to know how the weavers are get...</td>\n",
       "    </tr>\n",
       "  </tbody>\n",
       "</table>\n",
       "</div>"
      ],
      "text/plain": [
       "     author                 title  \\\n",
       "0  Andersen  Andersen Fairy Tales   \n",
       "1  Andersen  Andersen Fairy Tales   \n",
       "2  Andersen  Andersen Fairy Tales   \n",
       "3  Andersen  Andersen Fairy Tales   \n",
       "4  Andersen  Andersen Fairy Tales   \n",
       "\n",
       "                                                text  \n",
       "0  Many years ago, there was an Emperor, who was ...  \n",
       "1  Time passed merrily in the large town which wa...  \n",
       "2  “These must, indeed, be splendid clothes!” tho...  \n",
       "3  So the two pretended weavers set up two looms,...  \n",
       "4  “I should like to know how the weavers are get...  "
      ]
     },
     "execution_count": 65,
     "metadata": {},
     "output_type": "execute_result"
    }
   ],
   "source": [
    "# Sanity check\n",
    "aft_df.head()"
   ]
  },
  {
   "cell_type": "code",
   "execution_count": 66,
   "metadata": {},
   "outputs": [],
   "source": [
    "# extract lemmas\n",
    "def process_text(text):\n",
    "    \"\"\"Remove new line characters and lemmatize text. Returns string of lemmas\"\"\"\n",
    "    text = text.replace('\\n', ' ')\n",
    "    doc = nlp(text)\n",
    "    tokens = [token for token in doc]\n",
    "    no_stops = [token for token in tokens if not token.is_stop]\n",
    "    no_punct = [token for token in no_stops if token.is_alpha]\n",
    "    lemmas = [token.lemma_ for token in no_punct]\n",
    "    lemmas_lower = [lemma.lower() for lemma in lemmas]\n",
    "    lemmas_string = ' '.join(lemmas_lower)\n",
    "    return lemmas_string"
   ]
  },
  {
   "cell_type": "code",
   "execution_count": 67,
   "metadata": {},
   "outputs": [
    {
     "data": {
      "text/plain": [
       "<function __main__.process_text(text)>"
      ]
     },
     "execution_count": 67,
     "metadata": {},
     "output_type": "execute_result"
    }
   ],
   "source": [
    "# apply process_text to text column\n",
    "aft_df['lemmas'] = aft_df['text'].apply(process_text)\n",
    "process_text"
   ]
  },
  {
   "cell_type": "code",
   "execution_count": 68,
   "metadata": {},
   "outputs": [
    {
     "data": {
      "text/html": [
       "<div>\n",
       "<style scoped>\n",
       "    .dataframe tbody tr th:only-of-type {\n",
       "        vertical-align: middle;\n",
       "    }\n",
       "\n",
       "    .dataframe tbody tr th {\n",
       "        vertical-align: top;\n",
       "    }\n",
       "\n",
       "    .dataframe thead th {\n",
       "        text-align: right;\n",
       "    }\n",
       "</style>\n",
       "<table border=\"1\" class=\"dataframe\">\n",
       "  <thead>\n",
       "    <tr style=\"text-align: right;\">\n",
       "      <th></th>\n",
       "      <th>author</th>\n",
       "      <th>title</th>\n",
       "      <th>text</th>\n",
       "      <th>lemmas</th>\n",
       "    </tr>\n",
       "  </thead>\n",
       "  <tbody>\n",
       "    <tr>\n",
       "      <th>0</th>\n",
       "      <td>Andersen</td>\n",
       "      <td>Andersen Fairy Tales</td>\n",
       "      <td>Many years ago, there was an Emperor, who was ...</td>\n",
       "      <td>year ago emperor excessively fond new clothe s...</td>\n",
       "    </tr>\n",
       "    <tr>\n",
       "      <th>1</th>\n",
       "      <td>Andersen</td>\n",
       "      <td>Andersen Fairy Tales</td>\n",
       "      <td>Time passed merrily in the large town which wa...</td>\n",
       "      <td>time pass merrily large town capital stranger ...</td>\n",
       "    </tr>\n",
       "    <tr>\n",
       "      <th>2</th>\n",
       "      <td>Andersen</td>\n",
       "      <td>Andersen Fairy Tales</td>\n",
       "      <td>“These must, indeed, be splendid clothes!” tho...</td>\n",
       "      <td>splendid clothe think emperor suit find man re...</td>\n",
       "    </tr>\n",
       "    <tr>\n",
       "      <th>3</th>\n",
       "      <td>Andersen</td>\n",
       "      <td>Andersen Fairy Tales</td>\n",
       "      <td>So the two pretended weavers set up two looms,...</td>\n",
       "      <td>pretend weaver set loom affect work busily rea...</td>\n",
       "    </tr>\n",
       "    <tr>\n",
       "      <th>4</th>\n",
       "      <td>Andersen</td>\n",
       "      <td>Andersen Fairy Tales</td>\n",
       "      <td>“I should like to know how the weavers are get...</td>\n",
       "      <td>like know weaver get cloth say emperor little ...</td>\n",
       "    </tr>\n",
       "  </tbody>\n",
       "</table>\n",
       "</div>"
      ],
      "text/plain": [
       "     author                 title  \\\n",
       "0  Andersen  Andersen Fairy Tales   \n",
       "1  Andersen  Andersen Fairy Tales   \n",
       "2  Andersen  Andersen Fairy Tales   \n",
       "3  Andersen  Andersen Fairy Tales   \n",
       "4  Andersen  Andersen Fairy Tales   \n",
       "\n",
       "                                                text  \\\n",
       "0  Many years ago, there was an Emperor, who was ...   \n",
       "1  Time passed merrily in the large town which wa...   \n",
       "2  “These must, indeed, be splendid clothes!” tho...   \n",
       "3  So the two pretended weavers set up two looms,...   \n",
       "4  “I should like to know how the weavers are get...   \n",
       "\n",
       "                                              lemmas  \n",
       "0  year ago emperor excessively fond new clothe s...  \n",
       "1  time pass merrily large town capital stranger ...  \n",
       "2  splendid clothe think emperor suit find man re...  \n",
       "3  pretend weaver set loom affect work busily rea...  \n",
       "4  like know weaver get cloth say emperor little ...  "
      ]
     },
     "execution_count": 68,
     "metadata": {},
     "output_type": "execute_result"
    }
   ],
   "source": [
    "# sanity check\n",
    "aft_df.head()"
   ]
  },
  {
   "cell_type": "code",
   "execution_count": 69,
   "metadata": {},
   "outputs": [],
   "source": [
    "# filter out strings shorter than 25 characters\n",
    "length_filter = aft_df['lemmas'].str.len() > 25"
   ]
  },
  {
   "cell_type": "code",
   "execution_count": 70,
   "metadata": {},
   "outputs": [],
   "source": [
    "filter_df = aft_df[length_filter]"
   ]
  },
  {
   "cell_type": "code",
   "execution_count": 71,
   "metadata": {},
   "outputs": [
    {
     "data": {
      "text/html": [
       "<div>\n",
       "<style scoped>\n",
       "    .dataframe tbody tr th:only-of-type {\n",
       "        vertical-align: middle;\n",
       "    }\n",
       "\n",
       "    .dataframe tbody tr th {\n",
       "        vertical-align: top;\n",
       "    }\n",
       "\n",
       "    .dataframe thead th {\n",
       "        text-align: right;\n",
       "    }\n",
       "</style>\n",
       "<table border=\"1\" class=\"dataframe\">\n",
       "  <thead>\n",
       "    <tr style=\"text-align: right;\">\n",
       "      <th></th>\n",
       "      <th>author</th>\n",
       "      <th>title</th>\n",
       "      <th>text</th>\n",
       "      <th>lemmas</th>\n",
       "    </tr>\n",
       "  </thead>\n",
       "  <tbody>\n",
       "    <tr>\n",
       "      <th>0</th>\n",
       "      <td>Andersen</td>\n",
       "      <td>Andersen Fairy Tales</td>\n",
       "      <td>Many years ago, there was an Emperor, who was ...</td>\n",
       "      <td>year ago emperor excessively fond new clothe s...</td>\n",
       "    </tr>\n",
       "    <tr>\n",
       "      <th>1</th>\n",
       "      <td>Andersen</td>\n",
       "      <td>Andersen Fairy Tales</td>\n",
       "      <td>Time passed merrily in the large town which wa...</td>\n",
       "      <td>time pass merrily large town capital stranger ...</td>\n",
       "    </tr>\n",
       "    <tr>\n",
       "      <th>2</th>\n",
       "      <td>Andersen</td>\n",
       "      <td>Andersen Fairy Tales</td>\n",
       "      <td>“These must, indeed, be splendid clothes!” tho...</td>\n",
       "      <td>splendid clothe think emperor suit find man re...</td>\n",
       "    </tr>\n",
       "    <tr>\n",
       "      <th>3</th>\n",
       "      <td>Andersen</td>\n",
       "      <td>Andersen Fairy Tales</td>\n",
       "      <td>So the two pretended weavers set up two looms,...</td>\n",
       "      <td>pretend weaver set loom affect work busily rea...</td>\n",
       "    </tr>\n",
       "    <tr>\n",
       "      <th>4</th>\n",
       "      <td>Andersen</td>\n",
       "      <td>Andersen Fairy Tales</td>\n",
       "      <td>“I should like to know how the weavers are get...</td>\n",
       "      <td>like know weaver get cloth say emperor little ...</td>\n",
       "    </tr>\n",
       "  </tbody>\n",
       "</table>\n",
       "</div>"
      ],
      "text/plain": [
       "     author                 title  \\\n",
       "0  Andersen  Andersen Fairy Tales   \n",
       "1  Andersen  Andersen Fairy Tales   \n",
       "2  Andersen  Andersen Fairy Tales   \n",
       "3  Andersen  Andersen Fairy Tales   \n",
       "4  Andersen  Andersen Fairy Tales   \n",
       "\n",
       "                                                text  \\\n",
       "0  Many years ago, there was an Emperor, who was ...   \n",
       "1  Time passed merrily in the large town which wa...   \n",
       "2  “These must, indeed, be splendid clothes!” tho...   \n",
       "3  So the two pretended weavers set up two looms,...   \n",
       "4  “I should like to know how the weavers are get...   \n",
       "\n",
       "                                              lemmas  \n",
       "0  year ago emperor excessively fond new clothe s...  \n",
       "1  time pass merrily large town capital stranger ...  \n",
       "2  splendid clothe think emperor suit find man re...  \n",
       "3  pretend weaver set loom affect work busily rea...  \n",
       "4  like know weaver get cloth say emperor little ...  "
      ]
     },
     "execution_count": 71,
     "metadata": {},
     "output_type": "execute_result"
    }
   ],
   "source": [
    "filter_df.head()"
   ]
  },
  {
   "cell_type": "code",
   "execution_count": 72,
   "metadata": {},
   "outputs": [],
   "source": [
    "# remove \\n and \\r characters from the text\n",
    "def remove_new_lines(text):\n",
    "    text = text.replace('\\n', ' ')\n",
    "    text = text.replace('\\r', ' ')\n",
    "    return text"
   ]
  },
  {
   "cell_type": "code",
   "execution_count": 73,
   "metadata": {},
   "outputs": [
    {
     "name": "stderr",
     "output_type": "stream",
     "text": [
      "/var/folders/xw/scljwd0s4kx3s99jxkv9726r0000gn/T/ipykernel_1423/872223428.py:2: SettingWithCopyWarning: \n",
      "A value is trying to be set on a copy of a slice from a DataFrame.\n",
      "Try using .loc[row_indexer,col_indexer] = value instead\n",
      "\n",
      "See the caveats in the documentation: https://pandas.pydata.org/pandas-docs/stable/user_guide/indexing.html#returning-a-view-versus-a-copy\n",
      "  filter_df['text'] = filter_df['text'].apply(remove_new_lines)\n"
     ]
    }
   ],
   "source": [
    "# apply above function, you can ignore the warning.\n",
    "filter_df['text'] = filter_df['text'].apply(remove_new_lines)"
   ]
  },
  {
   "cell_type": "code",
   "execution_count": 74,
   "metadata": {},
   "outputs": [],
   "source": [
    "# save our work\n",
    "filter_df.to_csv('andersens_fairy_tales.csv', index=False)"
   ]
  }
 ],
 "metadata": {
  "kernelspec": {
   "display_name": "Python 3 (ipykernel)",
   "language": "python",
   "name": "python3"
  },
  "language_info": {
   "codemirror_mode": {
    "name": "ipython",
    "version": 3
   },
   "file_extension": ".py",
   "mimetype": "text/x-python",
   "name": "python",
   "nbconvert_exporter": "python",
   "pygments_lexer": "ipython3",
   "version": "3.11.4"
  }
 },
 "nbformat": 4,
 "nbformat_minor": 4
}
