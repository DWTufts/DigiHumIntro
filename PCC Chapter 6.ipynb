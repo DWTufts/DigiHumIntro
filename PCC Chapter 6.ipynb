{
 "cells": [
  {
   "cell_type": "markdown",
   "id": "24814918",
   "metadata": {},
   "source": [
    "# Chapter 6 HW"
   ]
  },
  {
   "cell_type": "markdown",
   "id": "244be17e",
   "metadata": {},
   "source": [
    "## 6-1"
   ]
  },
  {
   "cell_type": "code",
   "execution_count": 11,
   "id": "8c9601b7",
   "metadata": {},
   "outputs": [
    {
     "name": "stdout",
     "output_type": "stream",
     "text": [
      "first_name: Bob\n",
      "\n",
      "last_name: Man\n",
      "\n",
      "age: 30\n",
      "\n",
      "city: Philly\n",
      "\n"
     ]
    }
   ],
   "source": [
    "friend_dict = {\"first_name\": \"Bob\",\"last_name\": \"Man\", \"age\": 30, \"city\": \"Philly\"}\n",
    "for key in friend_dict.keys():\n",
    "    print(f\"{key}: {friend_dict[key]}\\n\")"
   ]
  },
  {
   "cell_type": "markdown",
   "id": "e5098b93",
   "metadata": {},
   "source": [
    "## 6-2"
   ]
  },
  {
   "cell_type": "code",
   "execution_count": 12,
   "id": "4d6ca12a",
   "metadata": {},
   "outputs": [
    {
     "name": "stdout",
     "output_type": "stream",
     "text": [
      "Bob: 10\n",
      "\n",
      "Ben: 3\n",
      "\n",
      "John: 17\n",
      "\n",
      "Beth: 18\n",
      "\n",
      "Mary: 8\n",
      "\n"
     ]
    }
   ],
   "source": [
    "friend_dict = {\"Bob\": 10, \"Ben\": 3, \"John\": 17, \"Beth\": 18, \"Mary\": 8,}\n",
    "for key in friend_dict.keys():\n",
    "    print(f\"{key}: {friend_dict[key]}\\n\")"
   ]
  },
  {
   "cell_type": "markdown",
   "id": "bc40c827",
   "metadata": {},
   "source": [
    "## 6-3"
   ]
  },
  {
   "cell_type": "code",
   "execution_count": 8,
   "id": "fa03efac",
   "metadata": {},
   "outputs": [
    {
     "name": "stdout",
     "output_type": "stream",
     "text": [
      "int: A number without a decimal\n",
      "\n",
      "float: A number with a decimal\n",
      "\n",
      "print: Print output\n",
      "\n",
      "sort: Sort stuff\n",
      "\n",
      "dict: Dictionary\n",
      "\n"
     ]
    }
   ],
   "source": [
    "dictionary = {\"int\": \"A number without a decimal\", \n",
    "              \"float\": \"A number with a decimal\", \n",
    "              \"print\": \"Print output\", \n",
    "              \"sort\": \"Sort stuff\", \n",
    "              \"dict\": \"Dictionary\"}\n",
    "for key in dictionary.keys():\n",
    "    print(f\"{key}: {dictionary[key]}\\n\")\n"
   ]
  },
  {
   "cell_type": "markdown",
   "id": "81f901f5",
   "metadata": {},
   "source": [
    "## 6-4"
   ]
  },
  {
   "cell_type": "code",
   "execution_count": 15,
   "id": "c3ead702",
   "metadata": {},
   "outputs": [
    {
     "name": "stdout",
     "output_type": "stream",
     "text": [
      "int: A number without a decimal\n",
      "\n",
      "float: A number with a decimal\n",
      "\n",
      "print: Print output\n",
      "\n",
      "sort: Sort stuff\n",
      "\n",
      "dict: Dictionary\n",
      "\n",
      "int2: A number without a decimal2\n",
      "\n",
      "float2: A number with a decimal2\n",
      "\n",
      "print2: Print output2\n",
      "\n",
      "sort2: Sort stuff2\n",
      "\n",
      "dict2: Dictionary2\n",
      "\n"
     ]
    }
   ],
   "source": [
    "dictionary = {\"int\": \"A number without a decimal\", \n",
    "              \"float\": \"A number with a decimal\", \n",
    "              \"print\": \"Print output\", \n",
    "              \"sort\": \"Sort stuff\", \n",
    "              \"dict\": \"Dictionary\",\n",
    "              \"int2\": \"A number without a decimal2\", \n",
    "              \"float2\": \"A number with a decimal2\", \n",
    "              \"print2\": \"Print output2\", \n",
    "              \"sort2\": \"Sort stuff2\", \n",
    "              \"dict2\": \"Dictionary2\"}\n",
    "for key, value in dictionary.items():\n",
    "    print(f\"{key}: {value}\\n\")"
   ]
  },
  {
   "cell_type": "markdown",
   "id": "ab75ffea",
   "metadata": {},
   "source": [
    "## 6-5"
   ]
  },
  {
   "cell_type": "code",
   "execution_count": 23,
   "id": "1e43384c",
   "metadata": {},
   "outputs": [
    {
     "name": "stdout",
     "output_type": "stream",
     "text": [
      "The Nile runs through Egypt\n",
      "The Mississippi runs through The US\n",
      "The Yangtze runs through China\n",
      "\n",
      "\n",
      "Nile\n",
      "Mississippi\n",
      "Yangtze\n",
      "\n",
      "\n",
      "Egypt\n",
      "The US\n",
      "China\n"
     ]
    }
   ],
   "source": [
    "rivers = {\"Nile\": \"Egypt\", \"Mississippi\": \"The US\", \"Yangtze\": \"China\"}\n",
    "for key, value in rivers.items():\n",
    "    print(f\"The {key} runs through {value}\")\n",
    "print(\"\\n\")\n",
    "for key in rivers.keys():\n",
    "    print(f\"{key}\")\n",
    "print(\"\\n\")\n",
    "for value in rivers.values():\n",
    "    print(f\"{value}\")"
   ]
  },
  {
   "cell_type": "markdown",
   "id": "d40bc99b",
   "metadata": {},
   "source": [
    "## 6-7"
   ]
  },
  {
   "cell_type": "code",
   "execution_count": 38,
   "id": "aa5dbbbf",
   "metadata": {},
   "outputs": [
    {
     "name": "stdout",
     "output_type": "stream",
     "text": [
      "Person: \n",
      "\n",
      "first_name: Bob\n",
      "\n",
      "last_name: Man\n",
      "\n",
      "age: 30\n",
      "\n",
      "city: Philly\n",
      "\n",
      "Person: \n",
      "\n",
      "first_name: Bob2\n",
      "\n",
      "last_name: Man2\n",
      "\n",
      "age: 302\n",
      "\n",
      "city: Philly2\n",
      "\n",
      "Person: \n",
      "\n",
      "first_name: Bob3\n",
      "\n",
      "last_name: Man3\n",
      "\n",
      "age: 303\n",
      "\n",
      "city: Philly3\n",
      "\n"
     ]
    }
   ],
   "source": [
    "friend_dict = {\"first_name\": \"Bob\",\"last_name\": \"Man\", \"age\": 30, \"city\": \"Philly\"}\n",
    "friend_dict2 = {\"first_name\": \"Bob2\",\"last_name\": \"Man2\", \"age\": 302, \"city\": \"Philly2\"}\n",
    "friend_dict3 = {\"first_name\": \"Bob3\",\"last_name\": \"Man3\", \"age\": 303, \"city\": \"Philly3\"}\n",
    "people = [friend_dict, friend_dict2, friend_dict3]\n",
    "counter = 0\n",
    "for person in people:\n",
    "    print(\"Person: \\n\")\n",
    "    for key, value in people[counter].items():\n",
    "        print(f\"{key}: {value}\\n\")\n",
    "    counter += 1"
   ]
  },
  {
   "cell_type": "markdown",
   "id": "87a0c123",
   "metadata": {},
   "source": [
    "## 6-8"
   ]
  },
  {
   "cell_type": "code",
   "execution_count": 41,
   "id": "e34d07ad",
   "metadata": {},
   "outputs": [
    {
     "name": "stdout",
     "output_type": "stream",
     "text": [
      "Pet: \n",
      "\n",
      "animal: Koala\n",
      "\n",
      "owner_name: Bob\n",
      "\n",
      "Pet: \n",
      "\n",
      "animal: Dog\n",
      "\n",
      "owner_name: Bert\n",
      "\n",
      "Pet: \n",
      "\n",
      "animal: Cat\n",
      "\n",
      "owner_name: Bub\n",
      "\n"
     ]
    }
   ],
   "source": [
    "pet1 = {\"animal\": \"Koala\",\"owner_name\": \"Bob\"}\n",
    "pet2 = {\"animal\": \"Dog\",\"owner_name\": \"Bert\"}\n",
    "pet3 = {\"animal\": \"Cat\",\"owner_name\": \"Bub\"}\n",
    "pets = [pet1, pet2, pet3]\n",
    "counter = 0\n",
    "for pet in pets:\n",
    "    print(\"Pet: \\n\")\n",
    "    for key, value in pets[counter].items():\n",
    "        print(f\"{key}: {value}\\n\")\n",
    "    counter += 1"
   ]
  },
  {
   "cell_type": "markdown",
   "id": "5cc18b1f",
   "metadata": {},
   "source": [
    "## 6-9"
   ]
  },
  {
   "cell_type": "code",
   "execution_count": 48,
   "id": "3c40d23f",
   "metadata": {},
   "outputs": [
    {
     "name": "stdout",
     "output_type": "stream",
     "text": [
      "Bob: {'places': 'Hawaii'}\n",
      "\n",
      "Bert: {'places': 'Canada'}\n",
      "\n",
      "Jerry: {'places': 'Nerbraska'}\n",
      "\n"
     ]
    }
   ],
   "source": [
    "bob = {\"places\": \"Hawaii\"}\n",
    "bert = {\"places\": \"Canada\"}\n",
    "jerry = {\"places\": \"Nerbraska\"}\n",
    "favorite_places = {\"Bob\": bob,\"Bert\": bert, \"Jerry\": jerry}\n",
    "for key, value in favorite_places.items():\n",
    "    print(f\"{key}: {value}\\n\")"
   ]
  },
  {
   "cell_type": "markdown",
   "id": "0d0d5b65",
   "metadata": {},
   "source": [
    "## 6-11"
   ]
  },
  {
   "cell_type": "code",
   "execution_count": 46,
   "id": "f87a7f1d",
   "metadata": {},
   "outputs": [
    {
     "name": "stdout",
     "output_type": "stream",
     "text": [
      "los angeles: {'country': 'US', 'pop': '8', 'fact': 'Best hot dogs!'}\n",
      "\n",
      "new york: {'country': 'US', 'pop': '9', 'fact': 'Best pizza!'}\n",
      "\n",
      "lincoln: {'country': 'US', 'pop': '10', 'fact': 'Best midwest city!'}\n",
      "\n"
     ]
    }
   ],
   "source": [
    "cities = {\"los angeles\": la, \"new york\": ny, \"lincoln\": ln}\n",
    "la = {\"country\": \"US\", \"pop\": \"8\", \"fact\": \"Best hot dogs!\"}\n",
    "ny = {\"country\": \"US\", \"pop\": \"9\", \"fact\": \"Best pizza!\"}\n",
    "ln = {\"country\": \"US\", \"pop\": \"10\", \"fact\": \"Best midwest city!\"}\n",
    "for key, value in cities.items():\n",
    "    print(f\"{key}: {value}\\n\")"
   ]
  },
  {
   "cell_type": "code",
   "execution_count": null,
   "id": "899b06c4",
   "metadata": {},
   "outputs": [],
   "source": []
  }
 ],
 "metadata": {
  "kernelspec": {
   "display_name": "Python 3 (ipykernel)",
   "language": "python",
   "name": "python3"
  },
  "language_info": {
   "codemirror_mode": {
    "name": "ipython",
    "version": 3
   },
   "file_extension": ".py",
   "mimetype": "text/x-python",
   "name": "python",
   "nbconvert_exporter": "python",
   "pygments_lexer": "ipython3",
   "version": "3.11.4"
  }
 },
 "nbformat": 4,
 "nbformat_minor": 5
}
