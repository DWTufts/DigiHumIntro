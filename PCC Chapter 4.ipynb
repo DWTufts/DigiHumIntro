{
 "cells": [
  {
   "cell_type": "markdown",
   "id": "35d15966",
   "metadata": {},
   "source": [
    "# Week 3 HW"
   ]
  },
  {
   "cell_type": "markdown",
   "id": "000b719f",
   "metadata": {},
   "source": [
    "## 4-1"
   ]
  },
  {
   "cell_type": "code",
   "execution_count": 4,
   "id": "4fbc9af4",
   "metadata": {},
   "outputs": [
    {
     "name": "stdout",
     "output_type": "stream",
     "text": [
      "Cheese pizza is great!\n",
      "BBQ pizza is great!\n",
      "Veggie pizza is great!\n",
      "I really love pizza!\n"
     ]
    }
   ],
   "source": [
    "pizzas = [\"Cheese\", \"BBQ\", \"Veggie\"]\n",
    "for pizza in pizzas:\n",
    "    print(f\"{pizza} pizza is great!\")\n",
    "print(\"I really love pizza!\")"
   ]
  },
  {
   "cell_type": "markdown",
   "id": "69be5382",
   "metadata": {},
   "source": [
    "## 4-2"
   ]
  },
  {
   "cell_type": "code",
   "execution_count": 6,
   "id": "ed743962",
   "metadata": {},
   "outputs": [
    {
     "name": "stdout",
     "output_type": "stream",
     "text": [
      "A Dog would make a great pet!\n",
      "A Cat would make a great pet!\n",
      "A Fish would make a great pet!\n",
      "Each of these animals would make a great pet!\n"
     ]
    }
   ],
   "source": [
    "animals= [\"Dog\", \"Cat\", \"Fish\"]\n",
    "for animal in animals:\n",
    "    print(f\"A {animal} would make a great pet!\")\n",
    "print(\"Each of these animals would make a great pet!\")"
   ]
  },
  {
   "cell_type": "markdown",
   "id": "cf2a32d9",
   "metadata": {},
   "source": [
    "## 4-3"
   ]
  },
  {
   "cell_type": "code",
   "execution_count": 7,
   "id": "44a78de3",
   "metadata": {},
   "outputs": [
    {
     "name": "stdout",
     "output_type": "stream",
     "text": [
      "1\n",
      "2\n",
      "3\n",
      "4\n",
      "5\n",
      "6\n",
      "7\n",
      "8\n",
      "9\n",
      "10\n",
      "11\n",
      "12\n",
      "13\n",
      "14\n",
      "15\n",
      "16\n",
      "17\n",
      "18\n",
      "19\n",
      "20\n"
     ]
    }
   ],
   "source": [
    "for value in range(1, 21):\n",
    "    print(value)"
   ]
  },
  {
   "cell_type": "markdown",
   "id": "9895de02",
   "metadata": {},
   "source": [
    "## 4-6"
   ]
  },
  {
   "cell_type": "code",
   "execution_count": 8,
   "id": "8b62a7c7",
   "metadata": {},
   "outputs": [
    {
     "name": "stdout",
     "output_type": "stream",
     "text": [
      "1\n",
      "3\n",
      "5\n",
      "7\n",
      "9\n",
      "11\n",
      "13\n",
      "15\n",
      "17\n",
      "19\n"
     ]
    }
   ],
   "source": [
    "for value in range(1, 21, 2):\n",
    "    print(value)"
   ]
  },
  {
   "cell_type": "markdown",
   "id": "84899a4c",
   "metadata": {},
   "source": [
    "## 4-10"
   ]
  },
  {
   "cell_type": "code",
   "execution_count": 13,
   "id": "1729e550",
   "metadata": {},
   "outputs": [
    {
     "name": "stdout",
     "output_type": "stream",
     "text": [
      "The first three items in the list are: ['Dog', 'Cat', 'Fish']\n",
      "Three items from the middle of the list are: ['Big Dog', 'Big Cat', 'Big Fish']\n",
      "The last three items in the list are: ['Small Dog', 'Small Cat', 'Small Fish']\n"
     ]
    }
   ],
   "source": [
    "animals= [\"Dog\", \"Cat\", \"Fish\", \"Big Dog\", \"Big Cat\", \"Big Fish\", \"Small Dog\", \"Small Cat\", \"Small Fish\",]\n",
    "print(f\"The first three items in the list are: {animals[:3]}\")\n",
    "print(f\"Three items from the middle of the list are: {animals[3:6]}\")\n",
    "print(f\"The last three items in the list are: {animals[6:]}\")"
   ]
  },
  {
   "cell_type": "markdown",
   "id": "cf914ac6",
   "metadata": {},
   "source": [
    "## 4-11"
   ]
  },
  {
   "cell_type": "code",
   "execution_count": 18,
   "id": "8ef0cc4a",
   "metadata": {},
   "outputs": [
    {
     "name": "stdout",
     "output_type": "stream",
     "text": [
      "Cheese pizza is great!\n",
      "BBQ pizza is great!\n",
      "Veggie pizza is great!\n",
      "I really love pizza!\n",
      "My favorite pizzas are: \n",
      "Cheese\n",
      "BBQ\n",
      "Veggie\n",
      "Meat Lovers\n",
      "My friend's favorite pizzas are: \n",
      "Cheese\n",
      "BBQ\n",
      "Veggie\n",
      "Veggie Supreme\n"
     ]
    }
   ],
   "source": [
    "pizzas = [\"Cheese\", \"BBQ\", \"Veggie\"]\n",
    "for pizza in pizzas:\n",
    "    print(f\"{pizza} pizza is great!\")\n",
    "print(\"I really love pizza!\")\n",
    "friend_pizzas = pizzas[:]\n",
    "pizzas.append(\"Meat Lovers\")\n",
    "friend_pizzas.append(\"Veggie Supreme\")\n",
    "print(\"My favorite pizzas are: \")\n",
    "for pizza in pizzas:\n",
    "    print(f\"{pizza}\")\n",
    "print(\"My friend's favorite pizzas are: \")\n",
    "for pizza in friend_pizzas:\n",
    "    print(f\"{pizza}\")"
   ]
  },
  {
   "cell_type": "code",
   "execution_count": null,
   "id": "c26dd6c7",
   "metadata": {},
   "outputs": [],
   "source": []
  }
 ],
 "metadata": {
  "kernelspec": {
   "display_name": "Python 3 (ipykernel)",
   "language": "python",
   "name": "python3"
  },
  "language_info": {
   "codemirror_mode": {
    "name": "ipython",
    "version": 3
   },
   "file_extension": ".py",
   "mimetype": "text/x-python",
   "name": "python",
   "nbconvert_exporter": "python",
   "pygments_lexer": "ipython3",
   "version": "3.11.4"
  }
 },
 "nbformat": 4,
 "nbformat_minor": 5
}
