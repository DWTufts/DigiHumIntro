{
 "cells": [
  {
   "cell_type": "markdown",
   "id": "bba4e4dc",
   "metadata": {},
   "source": [
    "# Week 4 Homework"
   ]
  },
  {
   "cell_type": "markdown",
   "id": "fe39da13",
   "metadata": {},
   "source": [
    "## 5-1"
   ]
  },
  {
   "cell_type": "code",
   "execution_count": 5,
   "id": "1f394cb5",
   "metadata": {},
   "outputs": [
    {
     "name": "stdout",
     "output_type": "stream",
     "text": [
      "Is dog == poodle? I predict True.\n",
      "True\n",
      "Is dog == great dane? I predict False.\n",
      "False\n",
      "Is cat == fluffy? I predict True.\n",
      "True\n",
      "Is cat == beans? I predict False.\n",
      "False\n",
      "Is car == subaru? I predict True.\n",
      "True\n",
      "Is car == ford? I predict False.\n",
      "False\n",
      "Is person == Dan? I predict True.\n",
      "True\n",
      "Is person == Steph? I predict False.\n",
      "False\n",
      "Is symbol == letter? I predict True.\n",
      "True\n",
      "Is symbol == number? I predict False.\n",
      "False\n"
     ]
    }
   ],
   "source": [
    "dog = \"poodle\"\n",
    "print(\"Is dog == poodle? I predict True.\")\n",
    "print(dog == \"poodle\")\n",
    "\n",
    "print(\"Is dog == great dane? I predict False.\")\n",
    "print(dog == \"great dane\")\n",
    "\n",
    "cat = \"fluffy\"\n",
    "print(\"Is cat == fluffy? I predict True.\")\n",
    "print(cat == \"fluffy\")\n",
    "\n",
    "print(\"Is cat == beans? I predict False.\")\n",
    "print(cat == \"beans\")\n",
    "\n",
    "car= \"subaru\"\n",
    "print(\"Is car == subaru? I predict True.\")\n",
    "print(car == \"subaru\")\n",
    "\n",
    "print(\"Is car == ford? I predict False.\")\n",
    "print(car == \"ford\")\n",
    "\n",
    "person = \"Dan\"\n",
    "print(\"Is person == Dan? I predict True.\")\n",
    "print(person == \"Dan\")\n",
    "\n",
    "print(\"Is person == Steph? I predict False.\")\n",
    "print(person == \"Steph\")\n",
    "\n",
    "symbol = \"letter\"\n",
    "print(\"Is symbol == letter? I predict True.\")\n",
    "print(symbol == \"letter\")\n",
    "\n",
    "print(\"Is symbol == number? I predict False.\")\n",
    "print(symbol == \"number\")"
   ]
  },
  {
   "cell_type": "markdown",
   "id": "27b7823d",
   "metadata": {},
   "source": [
    "## 5-2"
   ]
  },
  {
   "cell_type": "code",
   "execution_count": 3,
   "id": "bac59eaf",
   "metadata": {},
   "outputs": [
    {
     "name": "stdout",
     "output_type": "stream",
     "text": [
      "Is dog == dog? I predict True.\n",
      "True\n",
      "Is dog == great dane? I predict False.\n",
      "False\n",
      "Is dog == POODLE? I predict True.\n",
      "True\n",
      "Is dog == POODLE? I predict False.\n",
      "False\n",
      "Is 10 == 10? I predict True.\n",
      "True\n",
      "Is 10 > 10? I predict False.\n",
      "False\n",
      "Is 10 == 10 or 10 < 9? I predict True.\n",
      "True\n",
      "Is 10 > 10 and 10 < 9? I predict False.\n",
      "False\n",
      "Is first in the list? I predict True.\n",
      "True\n",
      "Is fourth in the list? I predict True.\n",
      "False\n"
     ]
    }
   ],
   "source": [
    "# Equality and Inequality of Strings\n",
    "\n",
    "print(\"Is dog == dog? I predict True.\")\n",
    "print(\"dog\" == \"dog\")\n",
    "\n",
    "print(\"Is dog == great dane? I predict False.\")\n",
    "print(\"dog\" == \"great dane\")\n",
    "\n",
    "# lower() Method\n",
    "\n",
    "dog = \"POODLE\"\n",
    "print(\"Is dog == POODLE? I predict True.\")\n",
    "print(dog == \"POODLE\")\n",
    "\n",
    "print(\"Is dog == POODLE? I predict False.\")\n",
    "print(dog.lower() == \"POODLE\")\n",
    "\n",
    "# Equality and Inequality\n",
    "\n",
    "print(\"Is 10 == 10? I predict True.\")\n",
    "print(10 == 10)\n",
    "\n",
    "print(\"Is 10 > 10? I predict False.\")\n",
    "print(10 > 10)\n",
    "\n",
    "# Using and + or\n",
    "\n",
    "print(\"Is 10 == 10 or 10 < 9? I predict True.\")\n",
    "print(10 == 10 or 10 < 9)\n",
    "\n",
    "print(\"Is 10 > 10 and 10 < 9? I predict False.\")\n",
    "print(10 > 10 and 10 < 9)\n",
    "\n",
    "# In a list\n",
    "\n",
    "list = [\"first\", \"second\", \"third\"]\n",
    "print(\"Is first in the list? I predict True.\")\n",
    "print(\"first\" in list)\n",
    "\n",
    "print(\"Is fourth in the list? I predict True.\")\n",
    "print(\"fourth\" in list)"
   ]
  },
  {
   "cell_type": "markdown",
   "id": "e1f11861",
   "metadata": {},
   "source": [
    "## 5-6"
   ]
  },
  {
   "cell_type": "code",
   "execution_count": 5,
   "id": "5eb309f0",
   "metadata": {},
   "outputs": [
    {
     "name": "stdout",
     "output_type": "stream",
     "text": [
      "You are an elder!\n"
     ]
    }
   ],
   "source": [
    "age = 66\n",
    "if age < 2:\n",
    "    print(\"You are a baby!\")\n",
    "elif age >= 2 and age < 4:\n",
    "    print(\"You are a toddler!\")\n",
    "elif age >= 4 and age < 13:\n",
    "    print(\"You are a kid!\")\n",
    "elif age >= 13 and age < 20:\n",
    "    print(\"You are a teenager!\")\n",
    "elif age >= 20 and age < 65:\n",
    "    print(\"You are an adult!\")\n",
    "else:\n",
    "    print(\"You are an elder!\")"
   ]
  },
  {
   "cell_type": "markdown",
   "id": "6203b96d",
   "metadata": {},
   "source": [
    "## 5-7"
   ]
  },
  {
   "cell_type": "code",
   "execution_count": 7,
   "id": "cf497927",
   "metadata": {},
   "outputs": [
    {
     "name": "stdout",
     "output_type": "stream",
     "text": [
      "You really like bananas!\n",
      "You really like oranges!\n",
      "You really like strawberrys!\n"
     ]
    }
   ],
   "source": [
    "favorite_fruits = [\"banana\", \"strawberry\", \"orange\"]\n",
    "if \"banana\" in favorite_fruits:\n",
    "    print(\"You really like bananas!\")\n",
    "if \"orange\" in favorite_fruits:\n",
    "    print(\"You really like oranges!\")\n",
    "if \"kiwi\" in favorite_fruits:\n",
    "    print(\"You really like kiwis!\")\n",
    "if \"peach\" in favorite_fruits:\n",
    "    print(\"You really like peaches!\")\n",
    "if \"strawberry\" in favorite_fruits:\n",
    "    print(\"You really like strawberrys!\")"
   ]
  },
  {
   "cell_type": "markdown",
   "id": "dcd38f17",
   "metadata": {},
   "source": [
    "## 5-8"
   ]
  },
  {
   "cell_type": "code",
   "execution_count": 16,
   "id": "c814c0ba",
   "metadata": {},
   "outputs": [],
   "source": [
    "usernames = [\"dw212\", \"wassup11\", \"newb01\", \"updown09\", \"admin\"]\n",
    "for user in usernames:\n",
    "    if user == \"admin\":\n",
    "        print(\"Hello admin, would you like to see a status report?\")\n",
    "    else:\n",
    "        print(f\"Hello {user}, thank you for logging in again.\")"
   ]
  },
  {
   "cell_type": "markdown",
   "id": "aa6c671a",
   "metadata": {},
   "source": [
    "## 5-9"
   ]
  },
  {
   "cell_type": "code",
   "execution_count": 21,
   "id": "63e39590",
   "metadata": {},
   "outputs": [
    {
     "name": "stdout",
     "output_type": "stream",
     "text": [
      "We need to find some users!\n"
     ]
    }
   ],
   "source": [
    "usernames = []\n",
    "if usernames:\n",
    "    for user in usernames:\n",
    "        if user == \"admin\":\n",
    "            print(\"Hello admin, would you like to see a status report?\")\n",
    "        else:\n",
    "            print(f\"Hello {user}, thank you for logging in again.\")\n",
    "else:\n",
    "    print(\"We need to find some users!\")"
   ]
  },
  {
   "cell_type": "markdown",
   "id": "f4674599",
   "metadata": {},
   "source": [
    "## 5-10"
   ]
  },
  {
   "cell_type": "code",
   "execution_count": 24,
   "id": "a7a5129c",
   "metadata": {},
   "outputs": [
    {
     "name": "stdout",
     "output_type": "stream",
     "text": [
      "You will need a new username!\n",
      "You will need a new username!\n",
      "Username avalible!\n",
      "Username avalible!\n",
      "Username avalible!\n"
     ]
    }
   ],
   "source": [
    "current_users = [\"guy1\", \"guy2\", \"guy3\", \"guy4\", \"guy5\"]\n",
    "new_users = [\"guy1\", \"guy2\", \"guy03\", \"guy04\", \"guy05\"]\n",
    "need_new = False\n",
    "for n_user in new_users:\n",
    "    for c_user in current_users:\n",
    "        if n_user.lower() == c_user.lower():\n",
    "            need_new = True\n",
    "    if need_new == True:\n",
    "        print(\"You will need a new username!\")\n",
    "        need_new = False\n",
    "    else:\n",
    "        print(\"Username avalible!\")"
   ]
  },
  {
   "cell_type": "code",
   "execution_count": null,
   "id": "e397bea8",
   "metadata": {},
   "outputs": [],
   "source": []
  }
 ],
 "metadata": {
  "kernelspec": {
   "display_name": "Python 3 (ipykernel)",
   "language": "python",
   "name": "python3"
  },
  "language_info": {
   "codemirror_mode": {
    "name": "ipython",
    "version": 3
   },
   "file_extension": ".py",
   "mimetype": "text/x-python",
   "name": "python",
   "nbconvert_exporter": "python",
   "pygments_lexer": "ipython3",
   "version": "3.11.4"
  }
 },
 "nbformat": 4,
 "nbformat_minor": 5
}
