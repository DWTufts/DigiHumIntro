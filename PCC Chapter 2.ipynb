{
 "cells": [
  {
   "cell_type": "markdown",
   "id": "598978df",
   "metadata": {},
   "source": [
    "# Week 3 HW"
   ]
  },
  {
   "cell_type": "markdown",
   "id": "8e60c497",
   "metadata": {},
   "source": [
    "## 2-1"
   ]
  },
  {
   "cell_type": "code",
   "execution_count": 1,
   "id": "ff12b141",
   "metadata": {},
   "outputs": [],
   "source": [
    "message = \"You rock!\""
   ]
  },
  {
   "cell_type": "code",
   "execution_count": 2,
   "id": "0cc44409",
   "metadata": {},
   "outputs": [
    {
     "name": "stdout",
     "output_type": "stream",
     "text": [
      "You rock!\n"
     ]
    }
   ],
   "source": [
    "print(message)"
   ]
  },
  {
   "cell_type": "markdown",
   "id": "0c7cf0ca",
   "metadata": {},
   "source": [
    "## 2-2"
   ]
  },
  {
   "cell_type": "code",
   "execution_count": 3,
   "id": "c56d10d1",
   "metadata": {},
   "outputs": [],
   "source": [
    "message = \"You rock\""
   ]
  },
  {
   "cell_type": "code",
   "execution_count": 4,
   "id": "092a28f3",
   "metadata": {},
   "outputs": [
    {
     "name": "stdout",
     "output_type": "stream",
     "text": [
      "You rock\n"
     ]
    }
   ],
   "source": [
    "print(message)"
   ]
  },
  {
   "cell_type": "code",
   "execution_count": 5,
   "id": "84279598",
   "metadata": {},
   "outputs": [],
   "source": [
    "message = \"I rock\""
   ]
  },
  {
   "cell_type": "code",
   "execution_count": 6,
   "id": "61af81ac",
   "metadata": {},
   "outputs": [
    {
     "name": "stdout",
     "output_type": "stream",
     "text": [
      "I rock\n"
     ]
    }
   ],
   "source": [
    "print(message)"
   ]
  },
  {
   "cell_type": "markdown",
   "id": "141ade82",
   "metadata": {},
   "source": [
    "## 2-3"
   ]
  },
  {
   "cell_type": "code",
   "execution_count": 14,
   "id": "97be0459",
   "metadata": {},
   "outputs": [],
   "source": [
    "name = \"Dylan\""
   ]
  },
  {
   "cell_type": "code",
   "execution_count": 15,
   "id": "eaaf3881",
   "metadata": {},
   "outputs": [
    {
     "name": "stdout",
     "output_type": "stream",
     "text": [
      "Hi Dylan! Do you like Python?\n"
     ]
    }
   ],
   "source": [
    "print(f\"Hi {name}! Do you like Python?\")"
   ]
  },
  {
   "cell_type": "markdown",
   "id": "01ccdf9b",
   "metadata": {},
   "source": [
    "## 2-4"
   ]
  },
  {
   "cell_type": "code",
   "execution_count": 11,
   "id": "ee75fe1e",
   "metadata": {},
   "outputs": [],
   "source": [
    "name = \"Joe Avocado\""
   ]
  },
  {
   "cell_type": "code",
   "execution_count": 12,
   "id": "4d835f44",
   "metadata": {},
   "outputs": [
    {
     "name": "stdout",
     "output_type": "stream",
     "text": [
      "JOE AVOCADO\n",
      "joe avocado\n",
      "Joe Avocado\n"
     ]
    }
   ],
   "source": [
    "print(name.upper())\n",
    "print(name.lower())\n",
    "print(name.title())"
   ]
  },
  {
   "cell_type": "markdown",
   "id": "21096fa6",
   "metadata": {},
   "source": [
    "## 2-5"
   ]
  },
  {
   "cell_type": "code",
   "execution_count": 15,
   "id": "ad1cca43",
   "metadata": {},
   "outputs": [
    {
     "name": "stdout",
     "output_type": "stream",
     "text": [
      "B.B. King once said \"The beautiful thing about learning is nobody can take it away from you.\"\n"
     ]
    }
   ],
   "source": [
    "print('B.B. King once said, \"The beautiful thing about learning is nobody can take it away from you.\"')"
   ]
  },
  {
   "cell_type": "markdown",
   "id": "ca1bdb9a",
   "metadata": {},
   "source": [
    "## 2-6"
   ]
  },
  {
   "cell_type": "code",
   "execution_count": 20,
   "id": "4f2bef77",
   "metadata": {},
   "outputs": [],
   "source": [
    "famous_person = \"B.B. King\"\n",
    "message = famous_person + ' once said, \"The beautiful thing about learning is nobody can take it away from you.\"'"
   ]
  },
  {
   "cell_type": "code",
   "execution_count": null,
   "id": "7539daf5",
   "metadata": {},
   "outputs": [],
   "source": [
    "print(message)"
   ]
  },
  {
   "cell_type": "code",
   "execution_count": null,
   "id": "df6a7879",
   "metadata": {},
   "outputs": [],
   "source": [
    "print(message)"
   ]
  },
  {
   "cell_type": "markdown",
   "id": "358e7418",
   "metadata": {},
   "source": [
    "## 2-7"
   ]
  },
  {
   "cell_type": "code",
   "execution_count": 21,
   "id": "8c8ec66c",
   "metadata": {},
   "outputs": [],
   "source": [
    "name = \"\\tTerry Poppy\\n\""
   ]
  },
  {
   "cell_type": "code",
   "execution_count": 22,
   "id": "3b3918cc",
   "metadata": {},
   "outputs": [
    {
     "name": "stdout",
     "output_type": "stream",
     "text": [
      "\tTerry Poppy\n",
      "\n"
     ]
    }
   ],
   "source": [
    "print(name)"
   ]
  },
  {
   "cell_type": "code",
   "execution_count": 23,
   "id": "bd104e02",
   "metadata": {},
   "outputs": [
    {
     "name": "stdout",
     "output_type": "stream",
     "text": [
      "Terry Poppy\n",
      "\n",
      "\tTerry Poppy\n",
      "Terry Poppy\n"
     ]
    }
   ],
   "source": [
    "print(name.lstrip())\n",
    "print(name.rstrip())\n",
    "print(name.strip())"
   ]
  },
  {
   "cell_type": "markdown",
   "id": "78de88c2",
   "metadata": {},
   "source": [
    "## 2-10"
   ]
  },
  {
   "cell_type": "code",
   "execution_count": 29,
   "id": "237f653a",
   "metadata": {},
   "outputs": [
    {
     "name": "stdout",
     "output_type": "stream",
     "text": [
      "3\n"
     ]
    }
   ],
   "source": [
    "fav_num = 3\n",
    "print(fav_num)"
   ]
  }
 ],
 "metadata": {
  "kernelspec": {
   "display_name": "Python 3 (ipykernel)",
   "language": "python",
   "name": "python3"
  },
  "language_info": {
   "codemirror_mode": {
    "name": "ipython",
    "version": 3
   },
   "file_extension": ".py",
   "mimetype": "text/x-python",
   "name": "python",
   "nbconvert_exporter": "python",
   "pygments_lexer": "ipython3",
   "version": "3.11.4"
  }
 },
 "nbformat": 4,
 "nbformat_minor": 5
}
