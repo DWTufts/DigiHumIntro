{
 "cells": [
  {
   "cell_type": "markdown",
   "id": "cb6e6f41",
   "metadata": {},
   "source": [
    "# HW 8"
   ]
  },
  {
   "cell_type": "markdown",
   "id": "d0cdeec0",
   "metadata": {},
   "source": [
    "## 8-1"
   ]
  },
  {
   "cell_type": "code",
   "execution_count": 2,
   "id": "f05298cf",
   "metadata": {},
   "outputs": [
    {
     "name": "stdout",
     "output_type": "stream",
     "text": [
      "I am learning about functions!\n"
     ]
    }
   ],
   "source": [
    "def display_message():\n",
    "    \"\"\"Display a message about this chapter\"\"\"\n",
    "    print(\"I am learning about functions!\")\n",
    "\n",
    "display_message()"
   ]
  },
  {
   "cell_type": "markdown",
   "id": "fa257d4b",
   "metadata": {},
   "source": [
    "## 8-2"
   ]
  },
  {
   "cell_type": "code",
   "execution_count": 3,
   "id": "449f932b",
   "metadata": {},
   "outputs": [
    {
     "name": "stdout",
     "output_type": "stream",
     "text": [
      "One of my favorite books is Alice In Wonderland\n"
     ]
    }
   ],
   "source": [
    "def favorite_book(title):\n",
    "    \"\"\"Print favorite book\"\"\"\n",
    "    print(f\"One of my favorite books is {title}\")\n",
    "    \n",
    "favorite_book(\"Alice In Wonderland\")"
   ]
  },
  {
   "cell_type": "markdown",
   "id": "6044e126",
   "metadata": {},
   "source": [
    "## 8-3"
   ]
  },
  {
   "cell_type": "code",
   "execution_count": 4,
   "id": "94927de5",
   "metadata": {},
   "outputs": [
    {
     "name": "stdout",
     "output_type": "stream",
     "text": [
      "This shirt is size M and will say Hi! on it\n",
      "This shirt is size L and will say Howdy! on it\n"
     ]
    }
   ],
   "source": [
    "def make_shirt(size, message):\n",
    "    \"\"\"Make a shirt\"\"\"\n",
    "    print(f\"This shirt is size {size} and will say {message} on it\")\n",
    "    \n",
    "make_shirt(\"M\", \"Hi!\")\n",
    "make_shirt(size=\"L\", message=\"Howdy!\")"
   ]
  },
  {
   "cell_type": "markdown",
   "id": "1fdd282c",
   "metadata": {},
   "source": [
    "## 8-5"
   ]
  },
  {
   "cell_type": "code",
   "execution_count": 5,
   "id": "24b0b199",
   "metadata": {},
   "outputs": [
    {
     "name": "stdout",
     "output_type": "stream",
     "text": [
      "Los Angeles is in USA.\n",
      "Montreal is in Canada.\n",
      "London is in England.\n"
     ]
    }
   ],
   "source": [
    "def describe_city(city, country=\"Canada\"):\n",
    "    \"\"\"Describes a city\"\"\"\n",
    "    print(f\"{city} is in {country}.\")\n",
    "    \n",
    "describe_city(\"Los Angeles\", \"USA\")\n",
    "describe_city(\"Montreal\")\n",
    "describe_city(\"London\", \"England\")"
   ]
  },
  {
   "cell_type": "markdown",
   "id": "2ddd55ce",
   "metadata": {},
   "source": [
    "## 8-6"
   ]
  },
  {
   "cell_type": "code",
   "execution_count": 10,
   "id": "5ca92892",
   "metadata": {},
   "outputs": [
    {
     "name": "stdout",
     "output_type": "stream",
     "text": [
      "Los Angeles, USA\n",
      "Montreal, Canada\n",
      "London, England\n"
     ]
    }
   ],
   "source": [
    "def city_country(city, country=\"Canada\"):\n",
    "    \"\"\"Return a city and country\"\"\"\n",
    "    return f\"{city}, {country}\"\n",
    "    \n",
    "print(city_country(\"Los Angeles\", \"USA\"))\n",
    "print(city_country(\"Montreal\", \"Canada\"))\n",
    "print(city_country(\"London\", \"England\"))"
   ]
  },
  {
   "cell_type": "markdown",
   "id": "1f3718b8",
   "metadata": {},
   "source": [
    "## 8-7"
   ]
  },
  {
   "cell_type": "code",
   "execution_count": 16,
   "id": "587dadd9",
   "metadata": {},
   "outputs": [
    {
     "name": "stdout",
     "output_type": "stream",
     "text": [
      "{'Artist Name': 'The Beatles', 'Album Title': 'Revolver'}\n",
      "{'Artist Name': 'Jay Z', 'Album Title': 'The Blueprint'}\n",
      "{'Artist Name': 'Arctic Monkeys', 'Album Title': 'AM'}\n",
      "{'Artist Name': 'Smash Mouth', 'Album Title': 'Astro Lounge', 'Age': 32}\n"
     ]
    }
   ],
   "source": [
    "def make_album(artist_name, album_title, age=None):\n",
    "    \"\"\"Build a dictionary that describes an album\"\"\"\n",
    "    album_description = {\"Artist Name\": artist_name, \"Album Title\": album_title}\n",
    "    if age:\n",
    "        album_description[\"Age\"] = age\n",
    "    return album_description\n",
    "\n",
    "print(make_album(\"The Beatles\", \"Revolver\"))\n",
    "print(make_album(\"Jay Z\", \"The Blueprint\"))\n",
    "print(make_album(\"Arctic Monkeys\", \"AM\"))\n",
    "print(make_album(\"Smash Mouth\", \"Astro Lounge\", 32))"
   ]
  }
 ],
 "metadata": {
  "kernelspec": {
   "display_name": "Python 3 (ipykernel)",
   "language": "python",
   "name": "python3"
  },
  "language_info": {
   "codemirror_mode": {
    "name": "ipython",
    "version": 3
   },
   "file_extension": ".py",
   "mimetype": "text/x-python",
   "name": "python",
   "nbconvert_exporter": "python",
   "pygments_lexer": "ipython3",
   "version": "3.11.4"
  }
 },
 "nbformat": 4,
 "nbformat_minor": 5
}
