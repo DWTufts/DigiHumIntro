{
 "cells": [
  {
   "cell_type": "markdown",
   "id": "598978df",
   "metadata": {},
   "source": [
    "# Week 3 HW"
   ]
  },
  {
   "cell_type": "markdown",
   "id": "568f4883",
   "metadata": {},
   "source": [
    "## 3-1"
   ]
  },
  {
   "cell_type": "code",
   "execution_count": 3,
   "id": "9c01ee7d",
   "metadata": {},
   "outputs": [
    {
     "name": "stdout",
     "output_type": "stream",
     "text": [
      "James\n",
      "Dean\n",
      "Nick\n",
      "Fred\n"
     ]
    }
   ],
   "source": [
    "friends = ['James', 'Dean', 'Nick', 'Fred']\n",
    "print(friends[0])\n",
    "print(friends[1])\n",
    "print(friends[2])\n",
    "print(friends[-1])"
   ]
  },
  {
   "cell_type": "markdown",
   "id": "a4a6121e",
   "metadata": {},
   "source": [
    "## 3-2"
   ]
  },
  {
   "cell_type": "code",
   "execution_count": 17,
   "id": "386534c7",
   "metadata": {},
   "outputs": [
    {
     "name": "stdout",
     "output_type": "stream",
     "text": [
      "James–hello!\n",
      "Dean–hello!\n",
      "Nick–hello!\n",
      "Fred–hello!\n"
     ]
    }
   ],
   "source": [
    "print(f\"{friends[0]}–hello!\")\n",
    "print(f\"{friends[1]}–hello!\")\n",
    "print(f\"{friends[2]}–hello!\")\n",
    "print(f\"{friends[-1]}–hello!\")"
   ]
  },
  {
   "cell_type": "markdown",
   "id": "23e5eb28",
   "metadata": {},
   "source": [
    "## 3-3"
   ]
  },
  {
   "cell_type": "code",
   "execution_count": 20,
   "id": "d5752e53",
   "metadata": {},
   "outputs": [
    {
     "name": "stdout",
     "output_type": "stream",
     "text": [
      "I would like to own a Big Bus\n",
      "I would also like to own a Small Bus\n",
      "I would most like to own a Medium Bus\n"
     ]
    }
   ],
   "source": [
    "cars = ['Big Bus','Small Bus', 'Medium Bus']\n",
    "print(f\"I would like to own a {cars[0]}\")\n",
    "print(f\"I would also like to own a {cars[1]}\")\n",
    "print(f\"I would most like to own a {cars[-1]}\")"
   ]
  },
  {
   "cell_type": "markdown",
   "id": "05ca6d31",
   "metadata": {},
   "source": [
    "## 3-4"
   ]
  },
  {
   "cell_type": "code",
   "execution_count": 22,
   "id": "493b3461",
   "metadata": {},
   "outputs": [
    {
     "name": "stdout",
     "output_type": "stream",
     "text": [
      "I would like to invite you, Roald Dahl, to dinner.\n",
      "I would like to invite you, Barack Obama, to dinner.\n",
      "I would like to invite you, Paul McCartney, to dinner.\n"
     ]
    }
   ],
   "source": [
    "guest_list= ['Roald Dahl','Barack Obama', 'Paul McCartney']\n",
    "print(f\"I would like to invite you, {guest_list[0]}, to dinner.\")\n",
    "print(f\"I would like to invite you, {guest_list[1]}, to dinner.\")\n",
    "print(f\"I would like to invite you, {guest_list[-1]}, to dinner.\")"
   ]
  },
  {
   "cell_type": "markdown",
   "id": "6406b1ca",
   "metadata": {},
   "source": [
    "## 3-5"
   ]
  },
  {
   "cell_type": "code",
   "execution_count": 23,
   "id": "83728bc7",
   "metadata": {},
   "outputs": [
    {
     "name": "stdout",
     "output_type": "stream",
     "text": [
      "Roald Dahl cannot make it!\n",
      "I would like to invite you, Michael Jackson, to dinner.\n",
      "I would like to invite you, Barack Obama, to dinner.\n",
      "I would like to invite you, Paul McCartney, to dinner.\n"
     ]
    }
   ],
   "source": [
    "print(f\"{guest_list[0]} cannot make it!\")\n",
    "guest_list[0] = \"Michael Jackson\"\n",
    "print(f\"I would like to invite you, {guest_list[0]}, to dinner.\")\n",
    "print(f\"I would like to invite you, {guest_list[1]}, to dinner.\")\n",
    "print(f\"I would like to invite you, {guest_list[-1]}, to dinner.\")"
   ]
  },
  {
   "cell_type": "markdown",
   "id": "51fb7bd5",
   "metadata": {},
   "source": [
    "## 3-6"
   ]
  },
  {
   "cell_type": "code",
   "execution_count": 30,
   "id": "a139110a",
   "metadata": {},
   "outputs": [
    {
     "name": "stdout",
     "output_type": "stream",
     "text": [
      "We found a bigger table!\n",
      "I would like to invite you, Sting, to dinner.\n",
      "I would like to invite you, Michael Jackson, to dinner.\n",
      "I would like to invite you, Plato, to dinner.\n",
      "I would like to invite you, Barack Obama, to dinner.\n",
      "I would like to invite you, Paul McCartney, to dinner.\n",
      "I would like to invite you, Famous Person, to dinner.\n"
     ]
    }
   ],
   "source": [
    "print(\"We found a bigger table!\")\n",
    "guest_list= ['Michael Jackson','Barack Obama', 'Paul McCartney']\n",
    "guest_list.insert(0, \"Sting\")\n",
    "guest_list.insert(2, \"Plato\")\n",
    "guest_list.append(\"Famous Person\")\n",
    "print(f\"I would like to invite you, {guest_list[0]}, to dinner.\")\n",
    "print(f\"I would like to invite you, {guest_list[1]}, to dinner.\")\n",
    "print(f\"I would like to invite you, {guest_list[2]}, to dinner.\")\n",
    "print(f\"I would like to invite you, {guest_list[3]}, to dinner.\")\n",
    "print(f\"I would like to invite you, {guest_list[4]}, to dinner.\")\n",
    "print(f\"I would like to invite you, {guest_list[-1]}, to dinner.\")"
   ]
  },
  {
   "cell_type": "markdown",
   "id": "0cfebc2a",
   "metadata": {},
   "source": [
    "## 3-7"
   ]
  },
  {
   "cell_type": "code",
   "execution_count": 31,
   "id": "06f6eec5",
   "metadata": {},
   "outputs": [
    {
     "name": "stdout",
     "output_type": "stream",
     "text": [
      "I can only invite two people for dinner!\n",
      "Famous Person is not coming to dinner\n",
      "Paul McCartney is not coming to dinner\n",
      "Barack Obama is not coming to dinner\n",
      "Plato is not coming to dinner\n",
      "Sting and Michael Jackson are still invited!\n",
      "[]\n"
     ]
    }
   ],
   "source": [
    "print(\"I can only invite two people for dinner!\")\n",
    "print(f\"{guest_list.pop()} is not coming to dinner\")\n",
    "print(f\"{guest_list.pop()} is not coming to dinner\")\n",
    "print(f\"{guest_list.pop()} is not coming to dinner\")\n",
    "print(f\"{guest_list.pop()} is not coming to dinner\")\n",
    "print(f\"{guest_list[0]} and {guest_list[1]} are still invited!\")\n",
    "del guest_list[0]\n",
    "del guest_list[0]\n",
    "print(guest_list)"
   ]
  },
  {
   "cell_type": "markdown",
   "id": "5cd962e6",
   "metadata": {},
   "source": [
    "## 3-8"
   ]
  },
  {
   "cell_type": "code",
   "execution_count": 12,
   "id": "a752b217",
   "metadata": {},
   "outputs": [
    {
     "name": "stdout",
     "output_type": "stream",
     "text": [
      "['Paris', 'Argentina', 'Germany', 'Greece']\n",
      "['Argentina', 'Germany', 'Greece', 'Paris']\n",
      "['Paris', 'Argentina', 'Germany', 'Greece']\n",
      "['Paris', 'Greece', 'Germany', 'Argentina']\n",
      "['Paris', 'Argentina', 'Germany', 'Greece']\n",
      "['Greece', 'Germany', 'Argentina', 'Paris']\n",
      "['Paris', 'Argentina', 'Germany', 'Greece']\n",
      "['Argentina', 'Germany', 'Greece', 'Paris']\n",
      "['Paris', 'Greece', 'Germany', 'Argentina']\n"
     ]
    }
   ],
   "source": [
    "places = [\"Paris\", \"Argentina\", \"Germany\", \"Greece\"]\n",
    "print(places)\n",
    "print(sorted(places))\n",
    "print(places)\n",
    "print(sorted(places, reverse=True))\n",
    "print(places)\n",
    "places.reverse()\n",
    "print(places)\n",
    "places.reverse()\n",
    "print(places)\n",
    "places.sort()\n",
    "print(places)\n",
    "places.sort(reverse=True)\n",
    "print(places)"
   ]
  },
  {
   "cell_type": "code",
   "execution_count": null,
   "id": "029ae2ae",
   "metadata": {},
   "outputs": [],
   "source": []
  }
 ],
 "metadata": {
  "kernelspec": {
   "display_name": "Python 3 (ipykernel)",
   "language": "python",
   "name": "python3"
  },
  "language_info": {
   "codemirror_mode": {
    "name": "ipython",
    "version": 3
   },
   "file_extension": ".py",
   "mimetype": "text/x-python",
   "name": "python",
   "nbconvert_exporter": "python",
   "pygments_lexer": "ipython3",
   "version": "3.11.4"
  }
 },
 "nbformat": 4,
 "nbformat_minor": 5
}
